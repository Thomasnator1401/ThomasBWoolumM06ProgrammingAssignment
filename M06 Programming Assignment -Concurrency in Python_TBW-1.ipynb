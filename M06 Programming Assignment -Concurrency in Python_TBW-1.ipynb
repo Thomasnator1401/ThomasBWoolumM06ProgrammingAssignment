{
 "cells": [
  {
   "cell_type": "code",
   "execution_count": 5,
   "id": "799facb3",
   "metadata": {},
   "outputs": [
    {
     "name": "stdout",
     "output_type": "stream",
     "text": [
      "Date 2024-02-21 has been written to 'today.txt'\n"
     ]
    }
   ],
   "source": [
    "from datetime import date\n",
    "\n",
    "# Get the current date\n",
    "today = date.today()\n",
    "\n",
    "# Format the date as a string in the 'YYYY-MM-DD' format\n",
    "today_string = today.strftime('%Y-%m-%d')\n",
    "\n",
    "# Write the date string to the file 'today.txt'\n",
    "with open('today.txt', 'w') as file:\n",
    "    file.write(today_string)\n",
    "\n",
    "print(f\"Date {today_string} has been written to 'today.txt'\")\n"
   ]
  },
  {
   "cell_type": "code",
   "execution_count": 6,
   "id": "8a58c73b",
   "metadata": {},
   "outputs": [
    {
     "name": "stdout",
     "output_type": "stream",
     "text": [
      "2024-02-21\n"
     ]
    }
   ],
   "source": [
    "# Open the file in read mode\n",
    "with open('today.txt', 'r') as file:\n",
    "    # Read the entire file into a string\n",
    "    today_string = file.read()\n",
    "\n",
    "# Now the entire content of 'today.txt' is stored in the string 'today_string'\n",
    "print(today_string)\n"
   ]
  },
  {
   "cell_type": "code",
   "execution_count": 7,
   "id": "d0820f8c",
   "metadata": {},
   "outputs": [
    {
     "name": "stdout",
     "output_type": "stream",
     "text": [
      "2024-02-21 00:00:00\n"
     ]
    }
   ],
   "source": [
    "from datetime import datetime\n",
    "\n",
    "# Assume today_string contains a date in the 'YYYY-MM-DD' format\n",
    "today_string = '2024-02-21'\n",
    "\n",
    "# Parse the date from today_string\n",
    "date = datetime.strptime(today_string, '%Y-%m-%d')\n",
    "\n",
    "print(date)\n"
   ]
  },
  {
   "cell_type": "code",
   "execution_count": null,
   "id": "4c096a42",
   "metadata": {},
   "outputs": [],
   "source": []
  }
 ],
 "metadata": {
  "kernelspec": {
   "display_name": "Python 3 (ipykernel)",
   "language": "python",
   "name": "python3"
  },
  "language_info": {
   "codemirror_mode": {
    "name": "ipython",
    "version": 3
   },
   "file_extension": ".py",
   "mimetype": "text/x-python",
   "name": "python",
   "nbconvert_exporter": "python",
   "pygments_lexer": "ipython3",
   "version": "3.11.5"
  }
 },
 "nbformat": 4,
 "nbformat_minor": 5
}
